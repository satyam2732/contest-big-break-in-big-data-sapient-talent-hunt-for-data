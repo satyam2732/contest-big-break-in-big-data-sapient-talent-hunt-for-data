{
 "cells": [
  {
   "cell_type": "code",
   "execution_count": 48,
   "metadata": {
    "collapsed": true
   },
   "outputs": [],
   "source": [
    "import warnings\n",
    "warnings.filterwarnings('ignore')\n",
    "\n",
    "import pandas as pd\n",
    "import numpy as np\n",
    "import matplotlib.pyplot as plt \n",
    "plt.rc(\"font\", size=14)\n",
    "\n",
    "import datetime\n",
    "import threading, logging, time\n",
    "import multiprocessing\n",
    "\n",
    "import math\n",
    "\n",
    "from kafka import KafkaConsumer, KafkaProducer"
   ]
  },
  {
   "cell_type": "code",
   "execution_count": 49,
   "metadata": {},
   "outputs": [
    {
     "name": "stderr",
     "output_type": "stream",
     "text": [
      "2018-07-06 23:17:50,096.96.42791748046875:kafka.client:20468:INFO:9560:Bootstrapping cluster metadata from [('localhost', 9092, <AddressFamily.AF_UNSPEC: 0>)]\n",
      "2018-07-06 23:17:50,154.154.94704246520996:kafka.conn:20468:INFO:9560:<BrokerConnection node_id=bootstrap host=localhost/::1 port=9092>: connecting to ::1:9092\n",
      "2018-07-06 23:18:20,288.288.2118225097656:kafka.conn:20468:ERROR:9560:Connection attempt to <BrokerConnection node_id=bootstrap host=localhost/::1 port=9092> timed out\n",
      "2018-07-06 23:18:20,288.288.2118225097656:kafka.conn:20468:INFO:9560:<BrokerConnection node_id=bootstrap host=localhost/::1 port=9092>: Closing connection. ConnectionError: timeout\n",
      "2018-07-06 23:18:20,409.409.38544273376465:kafka.client:20468:ERROR:9560:Unable to bootstrap from [('localhost', 9092, <AddressFamily.AF_UNSPEC: 0>)]\n",
      "Exception in thread Thread-7:\n",
      "Traceback (most recent call last):\n",
      "  File \"C:\\Users\\satyam\\Anaconda3\\lib\\threading.py\", line 916, in _bootstrap_inner\n",
      "    self.run()\n",
      "  File \"<ipython-input-49-5227cadf9975>\", line 10, in run\n",
      "    producer = KafkaProducer(bootstrap_servers='localhost:9092')\n",
      "  File \"C:\\Users\\satyam\\Anaconda3\\lib\\site-packages\\kafka\\producer\\kafka.py\", line 347, in __init__\n",
      "    **self.config)\n",
      "  File \"C:\\Users\\satyam\\Anaconda3\\lib\\site-packages\\kafka\\client_async.py\", line 221, in __init__\n",
      "    self.config['api_version'] = self.check_version(timeout=check_timeout)\n",
      "  File \"C:\\Users\\satyam\\Anaconda3\\lib\\site-packages\\kafka\\client_async.py\", line 826, in check_version\n",
      "    raise Errors.NoBrokersAvailable()\n",
      "kafka.errors.NoBrokersAvailable: NoBrokersAvailable\n",
      "\n",
      "2018-07-06 23:18:20,430.430.81188201904297:kafka.producer.kafka:20468:INFO:9560:Kafka producer closed\n"
     ]
    }
   ],
   "source": [
    "class Producer(threading.Thread):\n",
    "    def __init__(self):\n",
    "        threading.Thread.__init__(self)\n",
    "        self.stop_event = threading.Event()\n",
    "        \n",
    "    def stop(self):\n",
    "        self.stop_event.set()\n",
    "\n",
    "    def run(self):\n",
    "        producer = KafkaProducer(bootstrap_servers='localhost:9092')\n",
    "\n",
    "        while not self.stop_event.is_set():\n",
    "            producer.send('my-topic', b\"test\")\n",
    "            producer.send('my-topic', b\"\\xc2Hola, mundo!\")\n",
    "            time.sleep(1)\n",
    "\n",
    "        producer.close()\n",
    "\n",
    "class Consumer(multiprocessing.Process):\n",
    "    def __init__(self):\n",
    "        multiprocessing.Process.__init__(self)\n",
    "        self.stop_event = multiprocessing.Event()\n",
    "        \n",
    "    def stop(self):\n",
    "        self.stop_event.set()\n",
    "        \n",
    "    def run(self):\n",
    "        consumer = KafkaConsumer(bootstrap_servers='localhost:9092',\n",
    "                                 auto_offset_reset='earliest',\n",
    "                                 consumer_timeout_ms=1000)\n",
    "        consumer.subscribe(['my-topic'])\n",
    "\n",
    "        while not self.stop_event.is_set():\n",
    "            for message in consumer:\n",
    "                print(message)\n",
    "                if self.stop_event.is_set():\n",
    "                    break\n",
    "\n",
    "        consumer.close()\n",
    "        \n",
    "        \n",
    "def main():\n",
    "    tasks = [\n",
    "        Producer(),\n",
    "        Consumer()\n",
    "    ]\n",
    "\n",
    "    for t in tasks:\n",
    "        t.start()\n",
    "\n",
    "    time.sleep(10)\n",
    "    \n",
    "    for task in tasks:\n",
    "        task.stop()\n",
    "\n",
    "    for task in tasks:\n",
    "        task.join()\n",
    "        \n",
    "        \n",
    "if __name__ == \"__main__\":\n",
    "    logging.basicConfig(\n",
    "        format='%(asctime)s.%(msecs)s:%(name)s:%(thread)d:%(levelname)s:%(process)d:%(message)s',\n",
    "        level=logging.INFO\n",
    "        )\n",
    "    main()\n"
   ]
  },
  {
   "cell_type": "code",
   "execution_count": 65,
   "metadata": {
    "collapsed": true
   },
   "outputs": [],
   "source": [
    "# comsumtion_value data for last one minute\n",
    "train = pd.read_csv(\"D:/datascience/kafka/household.csv\")\n",
    "\n",
    "#store consumption_value of last one hour\n",
    "last_hour=pd.read_csv(\"D:/datascience/kafka/alert_2_last hour_record.csv\")\n",
    "\n",
    "# stores real time alert status of device\n",
    "alert_status=pd.read_csv(\"D:/datascience/kafka/current_alert_2_status.csv\")"
   ]
  },
  {
   "cell_type": "code",
   "execution_count": 66,
   "metadata": {
    "collapsed": true
   },
   "outputs": [],
   "source": [
    "#sort values as per timestamp to make data realtime\n",
    "\n",
    "train=train.sort_values(['timestamp'])\n",
    "train = train.reset_index(drop=True)"
   ]
  },
  {
   "cell_type": "code",
   "execution_count": 67,
   "metadata": {},
   "outputs": [
    {
     "data": {
      "text/html": [
       "<div>\n",
       "<style>\n",
       "    .dataframe thead tr:only-child th {\n",
       "        text-align: right;\n",
       "    }\n",
       "\n",
       "    .dataframe thead th {\n",
       "        text-align: left;\n",
       "    }\n",
       "\n",
       "    .dataframe tbody tr th {\n",
       "        vertical-align: top;\n",
       "    }\n",
       "</style>\n",
       "<table border=\"1\" class=\"dataframe\">\n",
       "  <thead>\n",
       "    <tr style=\"text-align: right;\">\n",
       "      <th></th>\n",
       "      <th>house_id</th>\n",
       "      <th>household_id</th>\n",
       "      <th>timestamp</th>\n",
       "      <th>value</th>\n",
       "    </tr>\n",
       "  </thead>\n",
       "  <tbody>\n",
       "    <tr>\n",
       "      <th>0</th>\n",
       "      <td>0</td>\n",
       "      <td>0</td>\n",
       "      <td>1377986400</td>\n",
       "      <td>1713.573</td>\n",
       "    </tr>\n",
       "    <tr>\n",
       "      <th>1</th>\n",
       "      <td>2</td>\n",
       "      <td>5</td>\n",
       "      <td>1377986400</td>\n",
       "      <td>5852.228</td>\n",
       "    </tr>\n",
       "    <tr>\n",
       "      <th>2</th>\n",
       "      <td>32</td>\n",
       "      <td>6</td>\n",
       "      <td>1377986400</td>\n",
       "      <td>2812.573</td>\n",
       "    </tr>\n",
       "    <tr>\n",
       "      <th>3</th>\n",
       "      <td>32</td>\n",
       "      <td>5</td>\n",
       "      <td>1377986400</td>\n",
       "      <td>1091.931</td>\n",
       "    </tr>\n",
       "  </tbody>\n",
       "</table>\n",
       "</div>"
      ],
      "text/plain": [
       "   house_id  household_id   timestamp     value\n",
       "0         0             0  1377986400  1713.573\n",
       "1         2             5  1377986400  5852.228\n",
       "2        32             6  1377986400  2812.573\n",
       "3        32             5  1377986400  1091.931"
      ]
     },
     "execution_count": 67,
     "metadata": {},
     "output_type": "execute_result"
    }
   ],
   "source": [
    "train.head(4)"
   ]
  },
  {
   "cell_type": "code",
   "execution_count": 68,
   "metadata": {},
   "outputs": [
    {
     "data": {
      "text/html": [
       "<div>\n",
       "<style>\n",
       "    .dataframe thead tr:only-child th {\n",
       "        text-align: right;\n",
       "    }\n",
       "\n",
       "    .dataframe thead th {\n",
       "        text-align: left;\n",
       "    }\n",
       "\n",
       "    .dataframe tbody tr th {\n",
       "        vertical-align: top;\n",
       "    }\n",
       "</style>\n",
       "<table border=\"1\" class=\"dataframe\">\n",
       "  <thead>\n",
       "    <tr style=\"text-align: right;\">\n",
       "      <th></th>\n",
       "      <th>timestamp</th>\n",
       "      <th>consumption_value</th>\n",
       "    </tr>\n",
       "  </thead>\n",
       "  <tbody>\n",
       "  </tbody>\n",
       "</table>\n",
       "</div>"
      ],
      "text/plain": [
       "Empty DataFrame\n",
       "Columns: [timestamp, consumption_value]\n",
       "Index: []"
      ]
     },
     "execution_count": 68,
     "metadata": {},
     "output_type": "execute_result"
    }
   ],
   "source": [
    "last_hour.head(5)"
   ]
  },
  {
   "cell_type": "code",
   "execution_count": 61,
   "metadata": {
    "collapsed": true
   },
   "outputs": [],
   "source": [
    "count=0\n",
    "mean=0\n",
    "std=0"
   ]
  },
  {
   "cell_type": "code",
   "execution_count": 71,
   "metadata": {},
   "outputs": [
    {
     "ename": "KeyboardInterrupt",
     "evalue": "",
     "output_type": "error",
     "traceback": [
      "\u001b[1;31m---------------------------------------------------------------------------\u001b[0m",
      "\u001b[1;31mKeyboardInterrupt\u001b[0m                         Traceback (most recent call last)",
      "\u001b[1;32m<ipython-input-71-628bd69405c0>\u001b[0m in \u001b[0;36m<module>\u001b[1;34m()\u001b[0m\n\u001b[0;32m     20\u001b[0m \u001b[1;31m# if sapient install new device there where will no record so we have to insert that new record of house_id, household_id in alert_status_file that shows current status of device\u001b[0m\u001b[1;33m\u001b[0m\u001b[1;33m\u001b[0m\u001b[0m\n\u001b[0;32m     21\u001b[0m \u001b[1;33m\u001b[0m\u001b[0m\n\u001b[1;32m---> 22\u001b[1;33m     \u001b[1;32mif\u001b[0m\u001b[1;33m(\u001b[0m\u001b[0malert\u001b[0m\u001b[1;33m.\u001b[0m\u001b[0mempty\u001b[0m\u001b[1;33m)\u001b[0m\u001b[1;33m:\u001b[0m\u001b[1;33m\u001b[0m\u001b[0m\n\u001b[0m\u001b[0;32m     23\u001b[0m         \u001b[0mdf_alert_status\u001b[0m \u001b[1;33m=\u001b[0m \u001b[0mpd\u001b[0m\u001b[1;33m.\u001b[0m\u001b[0mDataFrame\u001b[0m\u001b[1;33m(\u001b[0m\u001b[1;33m[\u001b[0m\u001b[1;33m[\u001b[0m\u001b[0mhouse\u001b[0m\u001b[1;33m,\u001b[0m\u001b[0mhousehold\u001b[0m\u001b[1;33m,\u001b[0m\u001b[1;36m0\u001b[0m\u001b[1;33m]\u001b[0m\u001b[1;33m]\u001b[0m\u001b[1;33m,\u001b[0m \u001b[0mcolumns\u001b[0m\u001b[1;33m=\u001b[0m\u001b[1;33m[\u001b[0m\u001b[1;34m'house_id'\u001b[0m\u001b[1;33m,\u001b[0m\u001b[1;34m'household_id'\u001b[0m\u001b[1;33m,\u001b[0m\u001b[1;34m'alert_status'\u001b[0m\u001b[1;33m]\u001b[0m\u001b[1;33m)\u001b[0m\u001b[1;33m\u001b[0m\u001b[0m\n\u001b[0;32m     24\u001b[0m         \u001b[0malert_status\u001b[0m\u001b[1;33m=\u001b[0m\u001b[0malert_status\u001b[0m\u001b[1;33m.\u001b[0m\u001b[0mappend\u001b[0m\u001b[1;33m(\u001b[0m\u001b[0mdf_alert_status\u001b[0m\u001b[1;33m,\u001b[0m \u001b[0mignore_index\u001b[0m\u001b[1;33m=\u001b[0m\u001b[1;32mTrue\u001b[0m\u001b[1;33m)\u001b[0m\u001b[1;33m\u001b[0m\u001b[0m\n",
      "\u001b[1;31mKeyboardInterrupt\u001b[0m: "
     ]
    }
   ],
   "source": [
    "for i in range(len(train)):\n",
    "    \n",
    "    # storing variables for each row----------------\n",
    "    \n",
    "    house=int(train.loc[i, 'house_id'])\n",
    "    household=int(train.loc[i, 'household_id'])\n",
    "    time=int(train.loc[i, 'timestamp'])\n",
    "    consumption_value=train.loc[i, 'value']\n",
    "    \n",
    "    \n",
    "# drop value variables for row when consumption value is either zero or empty\n",
    "    if float(consumption_value)==0:\n",
    "        continue\n",
    "\n",
    "        \n",
    "# check current alert_status of device\n",
    "    alert=alert_status.loc[ (alert_status['house_id']==house) & (alert_status['household_id']==household) , 'alert_status']\n",
    "    \n",
    "    \n",
    "# if sapient install new device there where will no record so we have to insert that new record of house_id, household_id in alert_status_file that shows current status of device  \n",
    "\n",
    "    if(alert.empty):\n",
    "        df_alert_status = pd.DataFrame([[house,household,0]], columns=['house_id','household_id','alert_status'])\n",
    "        alert_status=alert_status.append(df_alert_status, ignore_index=True)\n",
    "        alert= 0\n",
    "                  \n",
    "    \n",
    "# drop consumption_value variables for row when consumption value is very large\n",
    "\n",
    "    if consumption_value> float(mean) + 3*float(std):\n",
    "        continue\n",
    "    \n",
    "# for old device we can compute current alert_status of device\n",
    "\n",
    "    if consumption_value > float(mean_upto) + float(standard_deviation_upto):\n",
    "        alert_status[ (alert_status['house_id']==house) & (alert_status['household_id']==household), 'alert_status']=1  \n",
    "        \n",
    "    else:\n",
    "        alert_status[ (alert_status['house_id']==house) & (alert_status['household_id']==household), 'alert_status']=0\n",
    "\n",
    "        \n",
    "#update mean_upto and standard deviation to make computation for next consumtion_value\n",
    "\n",
    "    new_count=count+1    \n",
    "    new_mean=((mean*count) + consumption_value)/(new_count)\n",
    "    new_std_deviation=math.sqrt((count_upto*(std**2)+(mean-consumption_value)*(new_mean-consumption_value))/new_count)\n",
    "        \n",
    "    count=new_count\n",
    "    mean=new_mean\n",
    "    std=new_std_devaition"
   ]
  },
  {
   "cell_type": "code",
   "execution_count": 72,
   "metadata": {
    "collapsed": true
   },
   "outputs": [],
   "source": [
    "#update our alert 2 csv files.\n",
    "\n",
    "alert_status.to_csv(\"D:/datascience/kafka/current_alert_2_status.csv\", index = False)"
   ]
  },
  {
   "cell_type": "code",
   "execution_count": null,
   "metadata": {
    "collapsed": true
   },
   "outputs": [],
   "source": []
  }
 ],
 "metadata": {
  "kernelspec": {
   "display_name": "Python 3",
   "language": "python",
   "name": "python3"
  },
  "language_info": {
   "codemirror_mode": {
    "name": "ipython",
    "version": 3
   },
   "file_extension": ".py",
   "mimetype": "text/x-python",
   "name": "python",
   "nbconvert_exporter": "python",
   "pygments_lexer": "ipython3",
   "version": "3.6.3"
  }
 },
 "nbformat": 4,
 "nbformat_minor": 2
}
