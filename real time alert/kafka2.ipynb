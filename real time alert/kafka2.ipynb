{
 "cells": [
  {
   "cell_type": "code",
   "execution_count": 52,
   "metadata": {
    "collapsed": true
   },
   "outputs": [],
   "source": [
    "#import python libraries\n",
    "\n",
    "import warnings\n",
    "warnings.filterwarnings('ignore')\n",
    "\n",
    "import pandas as pd\n",
    "import numpy as np\n",
    "import matplotlib.pyplot as plt \n",
    "plt.rc(\"font\", size=14)\n",
    "\n",
    "import datetime\n",
    "\n",
    "#import household data\n",
    "\n",
    "train = pd.read_csv(\"D:/datascience/kafka/household.csv\")"
   ]
  },
  {
   "cell_type": "code",
   "execution_count": 53,
   "metadata": {},
   "outputs": [],
   "source": [
    "#drop rows with consumption_value 0\n",
    "\n",
    "train = train.drop(train[train.value==0].index)"
   ]
  },
  {
   "cell_type": "code",
   "execution_count": 54,
   "metadata": {
    "collapsed": true
   },
   "outputs": [],
   "source": [
    "#convert timestamp to datetime\n",
    "\n",
    "train['record_date']=pd.to_datetime(train['timestamp'], utc='GMT',unit='s')"
   ]
  },
  {
   "cell_type": "code",
   "execution_count": 55,
   "metadata": {},
   "outputs": [
    {
     "data": {
      "text/html": [
       "<div>\n",
       "<style>\n",
       "    .dataframe thead tr:only-child th {\n",
       "        text-align: right;\n",
       "    }\n",
       "\n",
       "    .dataframe thead th {\n",
       "        text-align: left;\n",
       "    }\n",
       "\n",
       "    .dataframe tbody tr th {\n",
       "        vertical-align: top;\n",
       "    }\n",
       "</style>\n",
       "<table border=\"1\" class=\"dataframe\">\n",
       "  <thead>\n",
       "    <tr style=\"text-align: right;\">\n",
       "      <th></th>\n",
       "      <th>house_id</th>\n",
       "      <th>household_id</th>\n",
       "      <th>timestamp</th>\n",
       "      <th>value</th>\n",
       "    </tr>\n",
       "  </thead>\n",
       "  <tbody>\n",
       "    <tr>\n",
       "      <th>count</th>\n",
       "      <td>1.049050e+07</td>\n",
       "      <td>1.049050e+07</td>\n",
       "      <td>1.049050e+07</td>\n",
       "      <td>1.049050e+07</td>\n",
       "    </tr>\n",
       "    <tr>\n",
       "      <th>mean</th>\n",
       "      <td>2.051105e+01</td>\n",
       "      <td>4.595367e+00</td>\n",
       "      <td>1.379244e+09</td>\n",
       "      <td>4.725287e+03</td>\n",
       "    </tr>\n",
       "    <tr>\n",
       "      <th>std</th>\n",
       "      <td>1.208444e+01</td>\n",
       "      <td>4.057388e+00</td>\n",
       "      <td>7.398839e+05</td>\n",
       "      <td>6.869090e+03</td>\n",
       "    </tr>\n",
       "    <tr>\n",
       "      <th>min</th>\n",
       "      <td>0.000000e+00</td>\n",
       "      <td>0.000000e+00</td>\n",
       "      <td>1.377986e+09</td>\n",
       "      <td>4.230000e-01</td>\n",
       "    </tr>\n",
       "    <tr>\n",
       "      <th>25%</th>\n",
       "      <td>1.000000e+01</td>\n",
       "      <td>1.000000e+00</td>\n",
       "      <td>1.378608e+09</td>\n",
       "      <td>7.852133e+02</td>\n",
       "    </tr>\n",
       "    <tr>\n",
       "      <th>50%</th>\n",
       "      <td>2.100000e+01</td>\n",
       "      <td>3.000000e+00</td>\n",
       "      <td>1.379227e+09</td>\n",
       "      <td>2.231872e+03</td>\n",
       "    </tr>\n",
       "    <tr>\n",
       "      <th>75%</th>\n",
       "      <td>3.200000e+01</td>\n",
       "      <td>7.000000e+00</td>\n",
       "      <td>1.379912e+09</td>\n",
       "      <td>6.067047e+03</td>\n",
       "    </tr>\n",
       "    <tr>\n",
       "      <th>max</th>\n",
       "      <td>3.900000e+01</td>\n",
       "      <td>1.700000e+01</td>\n",
       "      <td>1.380578e+09</td>\n",
       "      <td>5.039662e+05</td>\n",
       "    </tr>\n",
       "  </tbody>\n",
       "</table>\n",
       "</div>"
      ],
      "text/plain": [
       "           house_id  household_id     timestamp         value\n",
       "count  1.049050e+07  1.049050e+07  1.049050e+07  1.049050e+07\n",
       "mean   2.051105e+01  4.595367e+00  1.379244e+09  4.725287e+03\n",
       "std    1.208444e+01  4.057388e+00  7.398839e+05  6.869090e+03\n",
       "min    0.000000e+00  0.000000e+00  1.377986e+09  4.230000e-01\n",
       "25%    1.000000e+01  1.000000e+00  1.378608e+09  7.852133e+02\n",
       "50%    2.100000e+01  3.000000e+00  1.379227e+09  2.231872e+03\n",
       "75%    3.200000e+01  7.000000e+00  1.379912e+09  6.067047e+03\n",
       "max    3.900000e+01  1.700000e+01  1.380578e+09  5.039662e+05"
      ]
     },
     "execution_count": 55,
     "metadata": {},
     "output_type": "execute_result"
    }
   ],
   "source": [
    "train.describe()"
   ]
  },
  {
   "cell_type": "code",
   "execution_count": 56,
   "metadata": {},
   "outputs": [],
   "source": [
    "#extract year, month, day, hour from record_date column\n",
    "\n",
    "def split_data(train):\n",
    "    train['record_year']=train['record_date'].dt.year\n",
    "    train['record_second']=train['record_date'].dt.second\n",
    "    train['record_month']=train['record_date'].dt.month\n",
    "    train['record_day']=train['record_date'].dt.day\n",
    "    train['record_hour']=train['record_date'].dt.hour\n",
    "    train['record_minute']=train['record_date'].dt.minute\n",
    "\n",
    "#drop timestamp, record_date since they are of no use\n",
    "    train.drop('timestamp',axis=1,inplace=True)\n",
    "    train.drop('record_date',axis=1,inplace=True)\n",
    "    train.drop('record_minute',axis=1,inplace=True)\n",
    "    return train\n",
    "\n",
    "train=split_data(train)"
   ]
  },
  {
   "cell_type": "code",
   "execution_count": 57,
   "metadata": {},
   "outputs": [],
   "source": [
    "#calculate mean consumption value for each hour of every device installled\n",
    "\n",
    "train=train.groupby(['house_id','household_id','record_year','record_month','record_day','record_hour'],as_index=False)['value'].mean()"
   ]
  },
  {
   "cell_type": "code",
   "execution_count": 58,
   "metadata": {},
   "outputs": [],
   "source": [
    "#calculate mean of all the devices for each hour\n",
    "\n",
    "data_1=train.groupby(['record_year','record_month','record_day','record_hour'],as_index=False)['value'].mean()"
   ]
  },
  {
   "cell_type": "code",
   "execution_count": 59,
   "metadata": {},
   "outputs": [],
   "source": [
    "#calculate standard deviation of all the devices for each hour\n",
    "\n",
    "data_2=train.groupby(['record_year','record_month','record_day','record_hour'],as_index=False)['value'].std()"
   ]
  },
  {
   "cell_type": "code",
   "execution_count": 60,
   "metadata": {
    "collapsed": true
   },
   "outputs": [],
   "source": [
    "#sum up mean and standard devaition as update_value\n",
    "\n",
    "data_1['update_value']=data_1['value']+data_2['value']\n",
    "\n",
    "data_1.drop('value',axis=1,inplace=True)"
   ]
  },
  {
   "cell_type": "code",
   "execution_count": 61,
   "metadata": {},
   "outputs": [],
   "source": [
    "for i in range(len(train)):\n",
    "    year=int(train.loc[i, 'record_year'])\n",
    "    month=int(train.loc[i, 'record_month'])\n",
    "    day=int(train.loc[i, 'record_day'])\n",
    "    hour=int(train.loc[i, 'record_hour'])    \n",
    "    temp=data_1.loc[ (data_1['record_year'] == year) & (data_1['record_month']==month) & (data_1['record_day']==day) & (data_1['record_hour']==hour),'update_value']    \n",
    "    train.loc[i, 'ans']=float(temp)"
   ]
  },
  {
   "cell_type": "code",
   "execution_count": 62,
   "metadata": {
    "collapsed": true
   },
   "outputs": [],
   "source": [
    "#check whether consumption value is greater than sum of mean and standard deviation or not to get alert status\n",
    "\n",
    "for i in range(len(train)):\n",
    "    if(float(train.loc[i, 'value'])>float(train.loc[i, 'ans'])):\n",
    "        train.loc[i, 'final']=1\n",
    "    else:\n",
    "        train.loc[i, 'final']=0"
   ]
  },
  {
   "cell_type": "code",
   "execution_count": 63,
   "metadata": {
    "collapsed": true
   },
   "outputs": [],
   "source": [
    "test2=pd.read_csv(\"D:/datascience/kafka/test_sZn4Axl/alert_type_2.csv\")"
   ]
  },
  {
   "cell_type": "code",
   "execution_count": 64,
   "metadata": {},
   "outputs": [],
   "source": [
    "#split id into house_id, household_id, date, hour, day\n",
    "\n",
    "test2['house_id']=test2['id'].str.split('_').str.get(0)\n",
    "test2['household_id']=test2['id'].str.split('_').str.get(1)\n",
    "test2['date']=test2['id'].str.split('_').str.get(2)\n",
    "test2['hour']=test2['id'].str.split('_').str.get(3)\n",
    "test2['day']=test2['date'].str.split('-').str.get(0)\n",
    "test2['month']=test2['date'].str.split('-').str.get(1)\n",
    "test2['year']=test2['date'].str.split('-').str.get(2)\n",
    "test2.drop('date',axis=1,inplace=True)"
   ]
  },
  {
   "cell_type": "code",
   "execution_count": 65,
   "metadata": {},
   "outputs": [],
   "source": [
    "train['final']=train['final'].astype('int64')"
   ]
  },
  {
   "cell_type": "code",
   "execution_count": 66,
   "metadata": {
    "scrolled": true
   },
   "outputs": [],
   "source": [
    "# check alert status by comparing to above dataframe\n",
    "\n",
    "for i in range(len(test2)):\n",
    "    house=int(test2.loc[i, 'house_id'])\n",
    "    household=int(test2.loc[i, 'household_id'])\n",
    "    year=int(test2.loc[i, 'year'])\n",
    "    month=int(test2.loc[i, 'month'])\n",
    "    day=int(test2.loc[i, 'day'])\n",
    "    hour=int(test2.loc[i, 'hour'])    \n",
    "    temp=train.loc[(train['house_id'] == house) & (train['household_id'] == household) & (train['record_year'] == year) & (train['record_month']==month) & (train['record_day']==day) & (train['record_hour']==hour),'final']   \n",
    "    \n",
    "    if(temp.empty==False):    \n",
    "        if(int(temp)==1):\n",
    "            test2.loc[i, 'alert']=1\n",
    "        else:\n",
    "            test2.loc[i, 'alert']=0"
   ]
  },
  {
   "cell_type": "code",
   "execution_count": 67,
   "metadata": {
    "collapsed": true
   },
   "outputs": [],
   "source": [
    "test2.drop('house_id',axis=1,inplace=True)\n",
    "test2.drop('household_id',axis=1,inplace=True)\n",
    "test2.drop('hour',axis=1,inplace=True)\n",
    "test2.drop('year',axis=1,inplace=True)\n",
    "test2.drop('day',axis=1,inplace=True)\n",
    "test2.drop('month',axis=1,inplace=True)"
   ]
  },
  {
   "cell_type": "code",
   "execution_count": null,
   "metadata": {
    "collapsed": true
   },
   "outputs": [],
   "source": [
    "#import alert status.\n",
    "\n",
    "test2.to_csv(\"D:/datascience/kafka/test_sZn4Axl/test_2.csv\")"
   ]
  }
 ],
 "metadata": {
  "kernelspec": {
   "display_name": "Python 3",
   "language": "python",
   "name": "python3"
  },
  "language_info": {
   "codemirror_mode": {
    "name": "ipython",
    "version": 3
   },
   "file_extension": ".py",
   "mimetype": "text/x-python",
   "name": "python",
   "nbconvert_exporter": "python",
   "pygments_lexer": "ipython3",
   "version": "3.6.3"
  }
 },
 "nbformat": 4,
 "nbformat_minor": 2
}
